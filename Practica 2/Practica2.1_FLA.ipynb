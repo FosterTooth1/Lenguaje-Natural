{
 "cells": [
  {
   "cell_type": "markdown",
   "metadata": {},
   "source": [
    "PROCESAMIENTO DE LENGUAJE NATURAL\n",
    "\n",
    "PRACTICA 2\n",
    "\n",
    "FLORES LARA ALBERTO\n",
    "\n",
    "5BV1"
   ]
  },
  {
   "cell_type": "markdown",
   "metadata": {},
   "source": [
    "PARTE 1. IDENTIFICACIÓN, SUBSTITUCIÓN Y/O INSERCIÓN DE TEXTO USANDO\n",
    "EXPRESIONES REGULARES"
   ]
  },
  {
   "cell_type": "markdown",
   "metadata": {},
   "source": [
    "Para el texto contenido en el archivo “expenses.txt” y únicamente para los numerales 1 a 5, identificar las líneas que cumplan con los siguientes:"
   ]
  },
  {
   "cell_type": "markdown",
   "metadata": {},
   "source": [
    "1. Contengan una “r” seguida por una “g”. La “r” y la “g” no necesariamente tienen que estar en posiciones consecutivas."
   ]
  },
  {
   "cell_type": "code",
   "execution_count": 1,
   "metadata": {},
   "outputs": [],
   "source": [
    "# Importamos la libreria de regular expression perteneciente a Python\n",
    "import re\n",
    "\n",
    "#Leemos el archivo txt\n",
    "with open('expenses.txt', 'r') as file:\n",
    "    texto = file.read()\n",
    "    \n",
    "#Guardamos en una lista todas las coincidencias de la regular expression\n",
    "Expresion1 = re.findall(r'^(.*?(rg|gr).*?)$', texto, re.MULTILINE)\n",
    "\n",
    "#Imprimimos (Se imprime la linea donde se encontró el match, seguido del match)\n",
    "for match in Expresion1:\n",
    "    print(match)"
   ]
  },
  {
   "cell_type": "markdown",
   "metadata": {},
   "source": [
    "2. Describan comidas que cuesten al menos 100.00."
   ]
  },
  {
   "cell_type": "code",
   "execution_count": 2,
   "metadata": {},
   "outputs": [
    {
     "name": "stdout",
     "output_type": "stream",
     "text": [
      "('383.75:travel:20170223:flight to Boston, to visit ABC Corp.', '383.75')\n",
      "('318.47:supply:20170224:paper, toner, pens, paperclips, tape', '318.47')\n",
      "('142.12:meal:20170226:host dinner with ABC clients, Al, Bob, Cy, Dave, Ellie', '142.12')\n",
      "('303.94:util:20170227:Peoples Gas', '303.94')\n",
      "('121.07:util:20170227:Verizon Wireless', '121.07')\n",
      "('127.23:meal:20170302:dinner, Tavern64', '127.23')\n",
      "('378.81:travel:20170304:Hyatt Hotel, Reston VA, for Big Inc. meeting', '378.81')\n",
      "('1247.49:supply:20170306:Dell 7000 laptop/workstation', '1247.49')\n",
      "('212.06:util:20170308:Duquesne Light', '212.06')\n",
      "('195.89:supply:20170309:black toner, HP 304A, 2-pack', '195.89')\n",
      "('119.56:util:20170319:Verizon Wireless', '119.56')\n",
      "('284.23:util:20170323:Peoples Gas', '284.23')\n"
     ]
    }
   ],
   "source": [
    "#Guardamos en una lista todas las coincidencias de la regular expression\n",
    "Expresion2 = re.findall(r'^(.*?(\\d{3,}\\.\\d{2}).*?)$', texto, re.MULTILINE)\n",
    "\n",
    "# Mostrar las coincidencias (Se imprime la linea donde se encontró el match, seguido del match)\n",
    "for match in Expresion2:\n",
    "    print(match)\n"
   ]
  },
  {
   "cell_type": "markdown",
   "metadata": {},
   "source": [
    "3. Contengan una “a”, seguida por una “b”, seguida por una “c” (puede haber otros caracteres entre la “a” y la ”b” y entre la “b” y la ”c”. En caso de existir caracteres entre las letras indicadas, dichos caracteres no pueden ser a ni b, ni b y c, respectivamente. Ejemplos de cadenas invalidas: “A apple, a banana”; “Bad but beatiful car”"
   ]
  },
  {
   "cell_type": "code",
   "execution_count": 3,
   "metadata": {},
   "outputs": [
    {
     "name": "stdout",
     "output_type": "stream",
     "text": [
      "ate:Description\n",
      "5.25:supply:20170222:box of staples\n",
      "79.81:meal:20170222:lunc\n",
      " \n",
      "ambridge, MA\n",
      "23.25:meal:20170223:dinner at Logan Airport\n",
      "318.47:supply:20170224:paper, toner, pens, paperc\n",
      " \n",
      "as\n",
      "121.07:util:20170227:Verizon Wireless\n",
      "7.59:supply:20170227:Python book (used)\n",
      "79.99:supply:20170227:spare 20\" monitor\n",
      "49.86:supply:20170228:Stoc\n",
      " \n",
      "able\n",
      "212.06:util:20170308:Duquesne Light\n",
      "23.86:supply:20170309:Prac\n",
      " \n",
      "ance Interviews\n",
      "195.89:supply:20170309:blac\n",
      " \n"
     ]
    }
   ],
   "source": [
    "#Guardamos en una lista todas las coincidencias de la regular expression\n",
    "Expresion3 = re.findall(r'a[^ab]*b[^bc]*c', texto)\n",
    "\n",
    "# Mostramos las coincidencias\n",
    "for match in Expresion3:\n",
    "    print(match)\n",
    "    print(\" \")"
   ]
  },
  {
   "cell_type": "markdown",
   "metadata": {},
   "source": [
    "4. Contengan en la descripción de gastos una “a” minúscula y un digito entre 0 y 9 en cualquier orden. Es decir, el carácter “a” puede aparecer antes o después del digito."
   ]
  },
  {
   "cell_type": "code",
   "execution_count": 4,
   "metadata": {},
   "outputs": [
    {
     "name": "stdout",
     "output_type": "stream",
     "text": [
      "[]\n"
     ]
    }
   ],
   "source": [
    "#Creamos una lista donde se guardan los match\n",
    "coincidencias = []\n",
    "\n",
    "for linea in texto:\n",
    "    # Divide la línea en partes (Amount:Category:Date:Description)\n",
    "    partes = linea.split(':', 3)  \n",
    "    # Aseguramos que hay al menos 4 partes\n",
    "    if len(partes) == 4:  \n",
    "        # Accede a la descripción\n",
    "        descripcion = partes[3]  \n",
    "        # Buscamos el patrón en la descripción\n",
    "        if re.search(r'a\\d|\\da', descripcion):\n",
    "            coincidencias.append(linea)\n",
    "\n",
    "# Mostramos las coincidencias\n",
    "print(coincidencias)"
   ]
  },
  {
   "cell_type": "markdown",
   "metadata": {},
   "source": [
    "5. Contengan el carácter “d”, posiblemente seguido de otros caracteres, seguido de una “i”. Coincidencias incluirían palabras tales como: diver, doily, drip, diplomat, etc."
   ]
  },
  {
   "cell_type": "code",
   "execution_count": 5,
   "metadata": {},
   "outputs": [
    {
     "name": "stdout",
     "output_type": "stream",
     "text": [
      "['di', 'di', 'drive to Bi', 'di', 'di', 'drive to/from Bi', 'de to Quant Finance Intervi', 'drive to/from Bi', \"de's with Fred and Gina, Bi\"]\n"
     ]
    }
   ],
   "source": [
    "#Guardamos en una lista todas las coincidencias de la regular expression\n",
    "Expresion5 = re.findall(r'di|d.*i', texto,)\n",
    "\n",
    "# Mostrar las coincidencias\n",
    "print(Expresion5)"
   ]
  },
  {
   "cell_type": "markdown",
   "metadata": {},
   "source": [
    "6. Identificar títulos de películas producidas antes de 2002. El año de producción es el encerrado en paréntesis."
   ]
  },
  {
   "cell_type": "code",
   "execution_count": 6,
   "metadata": {},
   "outputs": [
    {
     "name": "stdout",
     "output_type": "stream",
     "text": [
      "[('The Shawshank Redemption', '1994'), ('The Godfather', '1972'), ('The Godfather: Part II', '1974'), ('2001: A Space Odyssey', '1968'), ('The Good, the Bad and the Ugly', '1966'), ('Angry Men', '1957'), (\"Schindler's List\", '1993'), ('Fight Club', '1999'), ('2010: The Year We Make Contact', '1984'), ('101 Dalmatians', '1996')]\n"
     ]
    }
   ],
   "source": [
    "#Obtener el listado de peliculas\n",
    "with open('seis.txt', 'r') as file:\n",
    "    texto6 = file.read()\n",
    "    \n",
    "#Guardamos en una lista todas las coincidencias de la regular expression\n",
    "Expresion6 = re.findall(r'^\\w+\\.\\s+(.*?)\\s+\\((19[0-9]{2}|2000|2001)\\)', texto6, re.MULTILINE)\n",
    "\n",
    "# Mostrar las coincidencias\n",
    "print(Expresion6)"
   ]
  },
  {
   "cell_type": "markdown",
   "metadata": {},
   "source": [
    "7. Identificar recetas que contengan la palabra 'chocolate' y cualquier variación de ella en términos de combinación entre minúsculas y mayúsculas, y también repetición de caracteres. Por ejemplo, una cadena válida puede ser: “ChOcoolATe."
   ]
  },
  {
   "cell_type": "code",
   "execution_count": 7,
   "metadata": {},
   "outputs": [
    {
     "name": "stdout",
     "output_type": "stream",
     "text": [
      "['chocolATE', 'chocolate', 'CHOCOLATE', 'CHOColate', 'Chooocolate']\n"
     ]
    }
   ],
   "source": [
    "#Obtener el listado de recetas\n",
    "with open('siete.txt', 'r') as file:\n",
    "    texto7 = file.read()\n",
    "\n",
    "#Guardamos en una lista todas las coincidencias de la regular expression\n",
    "Expresion7 = re.findall(r'(?i)\\bcho+co+la+te+\\b', texto7)\n",
    "\n",
    "# Mostrar las coincidencias\n",
    "print(Expresion7)"
   ]
  },
  {
   "cell_type": "markdown",
   "metadata": {},
   "source": [
    "8. Insertar comas entre grupos de cada tres dígitos para las siguientes poblaciones por país."
   ]
  },
  {
   "cell_type": "code",
   "execution_count": 8,
   "metadata": {},
   "outputs": [
    {
     "name": "stdout",
     "output_type": "stream",
     "text": [
      "a. China 1,361,220,000\n",
      "b. India 1,236,800,000\n",
      "c. United States 317,121,000\n",
      "d. Indonesia 237,641,326\n",
      "e. Brazil 201,032,714\n",
      "f. Pakistan 184,872,000\n",
      "g. Nigeria 173,615,000\n",
      "h. Bangladesh 152,518,015\n",
      "i. Russia 143,600,000\n"
     ]
    }
   ],
   "source": [
    "#Obtener el listado de paises\n",
    "with open('ocho.txt', 'r') as file:\n",
    "    texto8 = file.read()\n",
    "\n",
    "#Guardamos en una lista todas las coincidencias de la regular expression\n",
    "Expresion8= re.sub(r\"\\B(?=(\\d{3})+(?!\\d))\", \",\", texto8)\n",
    "\n",
    "# Mostrar las coincidencias\n",
    "print(Expresion8)"
   ]
  }
 ],
 "metadata": {
  "kernelspec": {
   "display_name": "Python 3",
   "language": "python",
   "name": "python3"
  },
  "language_info": {
   "codemirror_mode": {
    "name": "ipython",
    "version": 3
   },
   "file_extension": ".py",
   "mimetype": "text/x-python",
   "name": "python",
   "nbconvert_exporter": "python",
   "pygments_lexer": "ipython3",
   "version": "3.12.0"
  }
 },
 "nbformat": 4,
 "nbformat_minor": 2
}
