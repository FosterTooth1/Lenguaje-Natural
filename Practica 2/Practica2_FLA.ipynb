{
 "cells": [
  {
   "cell_type": "markdown",
   "metadata": {},
   "source": [
    "PROCESAMIENTO DE LENGUAJE NATURAL\n",
    "\n",
    "PRACTICA 2\n",
    "\n",
    "FLORES LARA ALBERTO\n",
    "\n",
    "5BV1"
   ]
  },
  {
   "cell_type": "markdown",
   "metadata": {},
   "source": [
    "PARTE 1. IDENTIFICACIÓN, SUBSTITUCIÓN Y/O INSERCIÓN DE TEXTO USANDO\n",
    "EXPRESIONES REGULARES"
   ]
  },
  {
   "cell_type": "markdown",
   "metadata": {},
   "source": [
    "Para el texto contenido en el archivo “expenses.txt” y únicamente para los numerales 1 a 5, identificar las líneas que cumplan con los siguientes:"
   ]
  },
  {
   "cell_type": "markdown",
   "metadata": {},
   "source": [
    "1. Contengan una “r” seguida por una “g”. La “r” y la “g” no necesariamente tienen que estar en posiciones consecutivas."
   ]
  },
  {
   "cell_type": "code",
   "execution_count": 37,
   "metadata": {},
   "outputs": [],
   "source": [
    "# Importamos la libreria de regular expression perteneciente a Python\n",
    "import re\n",
    "\n",
    "#Leemos el archivo txt\n",
    "with open('expenses.txt', 'r') as file:\n",
    "    texto = file.read()\n",
    "    \n",
    "#Guardamos en una lista todas las coincidencias de la regular expression\n",
    "Expresion1 = re.findall(r'^(.*?(rg|gr).*?)$', texto, re.MULTILINE)\n",
    "\n",
    "#Imprimimos (Se imprime la linea donde se encontró el match, seguido del match)\n",
    "for match in Expresion1:\n",
    "    print(match)"
   ]
  },
  {
   "cell_type": "markdown",
   "metadata": {},
   "source": [
    "2. Describan comidas que cuesten al menos 100.00."
   ]
  },
  {
   "cell_type": "code",
   "execution_count": 38,
   "metadata": {},
   "outputs": [
    {
     "name": "stdout",
     "output_type": "stream",
     "text": [
      "383.75\n",
      "318.47\n",
      "142.12\n",
      "303.94\n",
      "121.07\n",
      "127.23\n",
      "378.81\n",
      "1247.49\n",
      "212.06\n",
      "195.89\n",
      "119.56\n",
      "284.23\n"
     ]
    }
   ],
   "source": [
    "#Guardamos en una lista todas las coincidencias de la regular expression\n",
    "Expresion2 = re.findall(r'^(.*?(\\d{3,}\\.\\d{2}).*)$', texto, re.MULTILINE)\n",
    "\n",
    "# Mostrar las coincidencias (Se imprime la linea donde se encontró el match, seguido del match)\n",
    "for match in Expresion2:\n",
    "    print(match)\n"
   ]
  },
  {
   "cell_type": "markdown",
   "metadata": {},
   "source": [
    "3. Contengan una “a”, seguida por una “b”, seguida por una “c” (puede haber otros caracteres entre la “a” y la ”b” y entre la “b” y la ”c”. En caso de existir caracteres entre las letras indicadas, dichos caracteres no pueden ser a ni b, ni b y c, respectivamente. Ejemplos de cadenas invalidas: “A apple, a banana”; “Bad but beatiful car”"
   ]
  },
  {
   "cell_type": "code",
   "execution_count": 39,
   "metadata": {},
   "outputs": [
    {
     "name": "stdout",
     "output_type": "stream",
     "text": [
      "ate:Description\n",
      "5.25:supply:20170222:box of staples\n",
      "79.81:meal:20170222:lunc\n",
      " \n",
      "ambridge, MA\n",
      "23.25:meal:20170223:dinner at Logan Airport\n",
      "318.47:supply:20170224:paper, toner, pens, paperc\n",
      " \n",
      "as\n",
      "121.07:util:20170227:Verizon Wireless\n",
      "7.59:supply:20170227:Python book (used)\n",
      "79.99:supply:20170227:spare 20\" monitor\n",
      "49.86:supply:20170228:Stoc\n",
      " \n",
      "able\n",
      "212.06:util:20170308:Duquesne Light\n",
      "23.86:supply:20170309:Prac\n",
      " \n",
      "ance Interviews\n",
      "195.89:supply:20170309:blac\n",
      " \n"
     ]
    }
   ],
   "source": [
    "#Guardamos en una lista todas las coincidencias de la regular expression\n",
    "Expresion3 = re.findall(r'a[^ab]*b[^bc]*c', texto)\n",
    "\n",
    "# Mostramos las coincidencias\n",
    "for match in Expresion3:\n",
    "    print(match)\n",
    "    print(\" \")"
   ]
  },
  {
   "cell_type": "markdown",
   "metadata": {},
   "source": [
    "4. Contengan en la descripción de gastos una “a” minúscula y un digito entre 0 y 9 en cualquier orden. Es decir, el carácter “a” puede aparecer antes o después del digito."
   ]
  },
  {
   "cell_type": "code",
   "execution_count": null,
   "metadata": {},
   "outputs": [],
   "source": [
    "#Creamos una lista donde se guardan los match\n",
    "coincidencias = []\n",
    "\n",
    "for linea in texto:\n",
    "    # Divide la línea en partes (Amount:Category:Date:Description)\n",
    "    partes = linea.split(':', 3)  \n",
    "    # Aseguramos que hay al menos 4 partes\n",
    "    if len(partes) == 4:  \n",
    "        # Accede a la descripción\n",
    "        descripcion = partes[3]  \n",
    "        # Buscamos el patrón en la descripción\n",
    "        if re.search(r'a\\d|\\da', descripcion):\n",
    "            coincidencias.append(linea)\n",
    "\n",
    "# Mostramos las coincidencias\n",
    "print(coincidencias)"
   ]
  },
  {
   "cell_type": "markdown",
   "metadata": {},
   "source": [
    "5. Contengan el carácter “d”, posiblemente seguido de otros caracteres, seguido de una “i”. Coincidencias incluirían palabras tales como: diver, doily, drip, diplomat, etc."
   ]
  },
  {
   "cell_type": "code",
   "execution_count": null,
   "metadata": {},
   "outputs": [],
   "source": [
    "#Guardamos en una lista todas las coincidencias de la regular expression\n",
    "Expresion5 = re.findall(r'di|d.*i', texto)\n",
    "\n",
    "# Mostrar las coincidencias\n",
    "print(Expresion5)"
   ]
  },
  {
   "cell_type": "markdown",
   "metadata": {},
   "source": [
    "6. Identificar títulos de películas producidas antes de 2002. El año de producción es el encerrado en paréntesis."
   ]
  },
  {
   "cell_type": "code",
   "execution_count": null,
   "metadata": {},
   "outputs": [],
   "source": [
    "#Obtener el listado de peliculas\n",
    "with open('seis.txt', 'r') as file:\n",
    "    texto6 = file.read()\n",
    "    \n",
    "#Guardamos en una lista todas las coincidencias de la regular expression\n",
    "Expresion6 = re.findall(r'^\\w+\\.\\s+(.*?)\\s+\\((19[0-9]{2}|2000|2001)\\)', texto6)\n",
    "\n",
    "# Mostrar las coincidencias\n",
    "print(Expresion6)"
   ]
  },
  {
   "cell_type": "markdown",
   "metadata": {},
   "source": [
    "7. Identificar recetas que contengan la palabra 'chocolate' y cualquier variación de ella en términos de combinación entre minúsculas y mayúsculas, y también repetición de caracteres. Por ejemplo, una cadena válida puede ser: “ChOcoolATe."
   ]
  },
  {
   "cell_type": "code",
   "execution_count": null,
   "metadata": {},
   "outputs": [],
   "source": [
    "#Obtener el listado de recetas\n",
    "with open('siete.txt', 'r') as file:\n",
    "    texto7 = file.read()\n",
    "\n",
    "#Guardamos en una lista todas las coincidencias de la regular expression\n",
    "Expresion7 = re.findall(r'(?i)\\bcho+co+la+te+\\b', texto7)\n",
    "\n",
    "# Mostrar las coincidencias\n",
    "print(Expresion7)"
   ]
  },
  {
   "cell_type": "markdown",
   "metadata": {},
   "source": [
    "8. Insertar comas entre grupos de cada tres dígitos para las siguientes poblaciones por país."
   ]
  },
  {
   "cell_type": "code",
   "execution_count": null,
   "metadata": {},
   "outputs": [],
   "source": [
    "#Obtener el listado de paises\n",
    "with open('ocho.txt', 'r') as file:\n",
    "    texto8 = file.read()\n",
    "\n",
    "#Guardamos en una lista todas las coincidencias de la regular expression\n",
    "Expresion8= re.sub(r\"\\B(?=(\\d{3})+(?!\\d))\", \",\", texto)\n",
    "\n",
    "# Mostrar las coincidencias\n",
    "print(Expresion8)"
   ]
  },
  {
   "cell_type": "code",
   "execution_count": 40,
   "metadata": {},
   "outputs": [
    {
     "name": "stdout",
     "output_type": "stream",
     "text": [
      "[]\n",
      "['di', 'di', 'drive to Bi', 'di', 'di', 'drive to/from Bi', 'de to Quant Finance Intervi', 'drive to/from Bi', \"de's with Fred and Gina, Bi\"]\n",
      "[]\n",
      "[]\n",
      "Amount:Category:Date:Description\n",
      "5.25:supply:20,170,222:box of staples\n",
      "79.81:meal:20,170,222:lunch with ABC Corp. clients Al, Bob, and Cy\n",
      "43.00:travel:20,170,222:cab back to office\n",
      "383.75:travel:20,170,223:flight to Boston, to visit ABC Corp.\n",
      "55.00:travel:20,170,223:cab to ABC Corp. in Cambridge, MA\n",
      "23.25:meal:20,170,223:dinner at Logan Airport\n",
      "318.47:supply:20,170,224:paper, toner, pens, paperclips, tape\n",
      "142.12:meal:20,170,226:host dinner with ABC clients, Al, Bob, Cy, Dave, Ellie\n",
      "303.94:util:20,170,227:Peoples Gas\n",
      "121.07:util:20,170,227:Verizon Wireless\n",
      "7.59:supply:20,170,227:Python book (used)\n",
      "79.99:supply:20,170,227:spare 20\" monitor\n",
      "49.86:supply:20,170,228:Stoch Cal for Finance II\n",
      "6.53:meal:20,170,302:Dunkin Donuts, drive to Big Inc. near DC\n",
      "127.23:meal:20,170,302:dinner, Tavern64\n",
      "33.07:meal:20,170,303:dinner, Uncle Julio's\n",
      "86.00:travel:20,170,304:mileage, drive to/from Big Inc., Reston, VA\n",
      "22.00:travel:20,170,304:tolls\n",
      "378.81:travel:20,170,304:Hyatt Hotel, Reston VA, for Big Inc. meeting\n",
      "1,247.49:supply:20,170,306:Dell 7,000 laptop/workstation\n",
      "6.99:supply:20,170,306:HDMI cable\n",
      "212.06:util:20,170,308:Duquesne Light\n",
      "23.86:supply:20,170,309:Practical Guide to Quant Finance Interviews\n",
      "195.89:supply:20,170,309:black toner, HP 304A, 2-pack\n",
      "86.00:travel:20,170,317:mileage, drive to/from Big Inc., Reston, VA\n",
      "32.27:meal:20,170,317:lunch at Clyde's with Fred and Gina, Big Inc.\n",
      "22.00:travel:20,170,317:tolls\n",
      "119.56:util:20,170,319:Verizon Wireless\n",
      "284.23:util:20,170,323:Peoples Gas\n",
      "8.98:supply:20,170,325:Flair pens\n",
      "\n",
      "['2001:db8::ff00:42:8329', '2607:f0d0:1002:51::4']\n"
     ]
    }
   ],
   "source": [
    "\n",
    "#9\n",
    "\n",
    "def simplify_ipv6(ipv6_address):\n",
    "    # Remover ceros al inicio de cada bloque\n",
    "    simplified_ip = re.sub(r'(:|^)(0+)([0-9A-Fa-f])', r'\\1\\3', ipv6_address)\n",
    "    # Remover bloques de ceros\n",
    "    simplified_ip = re.sub(r'(:(0(:|$)){2,})', '::', simplified_ip, 1)\n",
    "    return simplified_ip\n",
    "\n",
    "# Ejemplo de uso\n",
    "ipv6_addresses = [\n",
    "    \"2001:0db8:0000:0000:0000:ff00:0042:8329\",\n",
    "    \"2607:f0d0:1002:0051:0000:0000:0000:0004\"\n",
    "]\n",
    "\n",
    "# Simplificar cada dirección IPv6\n",
    "simplified_ipv6_addresses = [simplify_ipv6(ip) for ip in ipv6_addresses]\n",
    "print(simplified_ipv6_addresses)"
   ]
  }
 ],
 "metadata": {
  "kernelspec": {
   "display_name": "Python 3",
   "language": "python",
   "name": "python3"
  },
  "language_info": {
   "codemirror_mode": {
    "name": "ipython",
    "version": 3
   },
   "file_extension": ".py",
   "mimetype": "text/x-python",
   "name": "python",
   "nbconvert_exporter": "python",
   "pygments_lexer": "ipython3",
   "version": "3.12.0"
  }
 },
 "nbformat": 4,
 "nbformat_minor": 2
}
