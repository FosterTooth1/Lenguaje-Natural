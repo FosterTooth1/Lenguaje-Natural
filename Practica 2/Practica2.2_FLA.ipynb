{
 "cells": [
  {
   "cell_type": "markdown",
   "metadata": {},
   "source": [
    "PROCESAMIENTO DE LENGUAJE NATURAL\n",
    "\n",
    "PRACTICA 2\n",
    "\n",
    "FLORES LARA ALBERTO\n",
    "\n",
    "5BV1"
   ]
  },
  {
   "cell_type": "markdown",
   "metadata": {},
   "source": [
    "PARTE 2. VECTORIZACIÓN DE DOCUMENTOS"
   ]
  },
  {
   "cell_type": "markdown",
   "metadata": {},
   "source": [
    "1. Obtener los documentos resultado de una etapa de normalización. En específico, después de:\n",
    "a. Convertir cada palabra a minúscula y de remover las “stop-words” y signos de puntuación.\n",
    "b. Aplicar la técnica de “stemming”.\n",
    "c. Aplicar POS-Tagging\n",
    "d. Aplicar “lemmatization”."
   ]
  },
  {
   "cell_type": "code",
   "execution_count": 242,
   "metadata": {},
   "outputs": [],
   "source": [
    "#Definimos las librerias que vamos a utilizar provenientes de nltk\n",
    "import re\n",
    "import math\n",
    "from nltk.tokenize import word_tokenize\n",
    "from nltk.corpus import stopwords, wordnet\n",
    "from nltk.stem import PorterStemmer, WordNetLemmatizer\n",
    "from nltk import pos_tag\n",
    "import matplotlib.pyplot as plt"
   ]
  },
  {
   "cell_type": "markdown",
   "metadata": {},
   "source": [
    "a. Convertir cada palabra a minúscula y de remover las “stop-words” y signos de puntuación."
   ]
  },
  {
   "cell_type": "code",
   "execution_count": 243,
   "metadata": {},
   "outputs": [],
   "source": [
    "# Definimos todas las funciones que vamos a ocupar\n",
    "# Definimos una funcion para obtener los documentos previamente almacenados en archivos txt \n",
    "def obtenertxt(documento):\n",
    "    with open(documento, 'r', encoding='utf-8') as archivo:\n",
    "        Texto=archivo.read()\n",
    "    return Texto\n",
    "\n",
    "# Definimos una funcion para convertir cada palabra a minusculas\n",
    "def minusculas(texto):\n",
    "    Texto_minusculas=texto.lower()\n",
    "    return Texto_minusculas\n",
    "\n",
    "# Definimos una funcion para quitar todos los caracteres especiales\n",
    "def caracteresesp(texto):\n",
    "    Texto_sin_caracteres=re.sub(r'[^a-zA-Z0-9\\s]', '', texto)\n",
    "    return Texto_sin_caracteres\n",
    "\n",
    "# Definimos una funcion para quitar todas las stopwords\n",
    "def stooopwords(tokens):\n",
    "    # Se inicializa el conjunto de stopwords en inglés.\n",
    "    stop_words = set(stopwords.words('english'))\n",
    "\n",
    "    # Se crea una lista para almacenar los tokens sin stopwords.\n",
    "    texto_sin_stopword = []\n",
    "\n",
    "    # Se almacenan los tokens que no son stopwords.\n",
    "    for w in tokens:\n",
    "        if w not in stop_words:\n",
    "            texto_sin_stopword.append(w)\n",
    "            \n",
    "    return texto_sin_stopword\n",
    "\n",
    "# Definimos una funcion para tokenizar los documentos\n",
    "def tokenizar(texto):\n",
    "    tokens = word_tokenize(texto)\n",
    "    return tokens\n",
    "\n",
    "doc1=obtenertxt('Doc1.txt')\n",
    "doc2=obtenertxt('Doc2.txt')\n",
    "doc3=obtenertxt('Doc3.txt')\n",
    "\n",
    "doc1=caracteresesp(doc1)\n",
    "doc2=caracteresesp(doc2)\n",
    "doc3=caracteresesp(doc3)"
   ]
  },
  {
   "cell_type": "markdown",
   "metadata": {},
   "source": [
    "Estos son los documentos originales:"
   ]
  },
  {
   "cell_type": "code",
   "execution_count": 244,
   "metadata": {},
   "outputs": [
    {
     "name": "stdout",
     "output_type": "stream",
     "text": [
      "Pancreatic cancer with metastasis Jaundice with transaminitis evaluate for obstruction process\n",
      "Pancreatitis Breast cancer No output from enteric tube Assess tube\n",
      "Metastasis pancreatic cancer Acute renal failure evaluate for hydronephrosis or obstructive uropathy\n"
     ]
    }
   ],
   "source": [
    "print(doc1)\n",
    "print(doc2)\n",
    "print(doc3)"
   ]
  },
  {
   "cell_type": "markdown",
   "metadata": {},
   "source": [
    "Estos son los documentos con minusculas:"
   ]
  },
  {
   "cell_type": "code",
   "execution_count": 245,
   "metadata": {},
   "outputs": [
    {
     "name": "stdout",
     "output_type": "stream",
     "text": [
      "pancreatic cancer with metastasis jaundice with transaminitis evaluate for obstruction process\n",
      "pancreatitis breast cancer no output from enteric tube assess tube\n",
      "metastasis pancreatic cancer acute renal failure evaluate for hydronephrosis or obstructive uropathy\n"
     ]
    }
   ],
   "source": [
    "doc1=minusculas(doc1)\n",
    "doc2=minusculas(doc2)\n",
    "doc3=minusculas(doc3)\n",
    "\n",
    "print(doc1)\n",
    "print(doc2)\n",
    "print(doc3)"
   ]
  },
  {
   "cell_type": "markdown",
   "metadata": {},
   "source": [
    "Estos son los documentos sin caracteres especiales:"
   ]
  },
  {
   "cell_type": "code",
   "execution_count": 246,
   "metadata": {},
   "outputs": [
    {
     "name": "stdout",
     "output_type": "stream",
     "text": [
      "pancreatic cancer with metastasis jaundice with transaminitis evaluate for obstruction process\n",
      "pancreatitis breast cancer no output from enteric tube assess tube\n",
      "metastasis pancreatic cancer acute renal failure evaluate for hydronephrosis or obstructive uropathy\n"
     ]
    }
   ],
   "source": [
    "doc1=caracteresesp(doc1)\n",
    "doc2=caracteresesp(doc2)\n",
    "doc3=caracteresesp(doc3)\n",
    "\n",
    "print(doc1)\n",
    "print(doc2)\n",
    "print(doc3)"
   ]
  },
  {
   "cell_type": "markdown",
   "metadata": {},
   "source": [
    "Estos son los tokens de cada documento:"
   ]
  },
  {
   "cell_type": "code",
   "execution_count": 247,
   "metadata": {},
   "outputs": [
    {
     "name": "stdout",
     "output_type": "stream",
     "text": [
      "['pancreatic', 'cancer', 'with', 'metastasis', 'jaundice', 'with', 'transaminitis', 'evaluate', 'for', 'obstruction', 'process']\n",
      "['pancreatitis', 'breast', 'cancer', 'no', 'output', 'from', 'enteric', 'tube', 'assess', 'tube']\n",
      "['metastasis', 'pancreatic', 'cancer', 'acute', 'renal', 'failure', 'evaluate', 'for', 'hydronephrosis', 'or', 'obstructive', 'uropathy']\n"
     ]
    }
   ],
   "source": [
    "tokens1=tokenizar(doc1)\n",
    "tokens2=tokenizar(doc2)\n",
    "tokens3=tokenizar(doc3)\n",
    "\n",
    "print(tokens1)\n",
    "print(tokens2)\n",
    "print(tokens3)\n",
    "\n",
    "#Creamos una copia de los tokens ya que lo usaremos despues\n",
    "tokens1_copy= tokens1\n",
    "tokens2_copy= tokens2\n",
    "tokens3_copy= tokens3"
   ]
  },
  {
   "cell_type": "markdown",
   "metadata": {},
   "source": [
    "Estos son los tokens sin stopwords:"
   ]
  },
  {
   "cell_type": "code",
   "execution_count": 248,
   "metadata": {},
   "outputs": [
    {
     "name": "stdout",
     "output_type": "stream",
     "text": [
      "['pancreatic', 'cancer', 'metastasis', 'jaundice', 'transaminitis', 'evaluate', 'obstruction', 'process']\n",
      "['pancreatitis', 'breast', 'cancer', 'output', 'enteric', 'tube', 'assess', 'tube']\n",
      "['metastasis', 'pancreatic', 'cancer', 'acute', 'renal', 'failure', 'evaluate', 'hydronephrosis', 'obstructive', 'uropathy']\n"
     ]
    }
   ],
   "source": [
    "tokens1=stooopwords(tokens1)\n",
    "tokens2=stooopwords(tokens2)\n",
    "tokens3=stooopwords(tokens3)\n",
    "\n",
    "print(tokens1)\n",
    "print(tokens2)\n",
    "print(tokens3)"
   ]
  },
  {
   "cell_type": "markdown",
   "metadata": {},
   "source": [
    "b. Aplicar la técnica de “stemming”."
   ]
  },
  {
   "cell_type": "code",
   "execution_count": 249,
   "metadata": {},
   "outputs": [
    {
     "name": "stdout",
     "output_type": "stream",
     "text": [
      "['pancreat', 'cancer', 'metastasi', 'jaundic', 'transamin', 'evalu', 'obstruct', 'process']\n",
      "['pancreat', 'breast', 'cancer', 'output', 'enter', 'tube', 'assess', 'tube']\n",
      "['metastasi', 'pancreat', 'cancer', 'acut', 'renal', 'failur', 'evalu', 'hydronephrosi', 'obstruct', 'uropathi']\n"
     ]
    }
   ],
   "source": [
    "# Se nicializa la funcion para realizar stemming.\n",
    "ps = PorterStemmer()\n",
    "\n",
    "def stemming(tokens):\n",
    "    # Se crea una lista para almacenar los tokens con stemming.\n",
    "    stemming_list=[]\n",
    "    # Se almacenan los tokens con stemming aplicado.\n",
    "    for words in tokens:\n",
    "        stemming_list.append(ps.stem(words))\n",
    "    return stemming_list\n",
    "\n",
    "tokens1=stemming(tokens1)\n",
    "tokens2=stemming(tokens2)\n",
    "tokens3=stemming(tokens3)\n",
    "\n",
    "print(tokens1)\n",
    "print(tokens2)\n",
    "print(tokens3)"
   ]
  },
  {
   "cell_type": "markdown",
   "metadata": {},
   "source": [
    "c. Aplicar POS-Tagging"
   ]
  },
  {
   "cell_type": "code",
   "execution_count": 250,
   "metadata": {},
   "outputs": [
    {
     "name": "stdout",
     "output_type": "stream",
     "text": [
      "[('pancreat', 'NN'), ('cancer', 'NN'), ('metastasi', 'NN'), ('jaundic', 'JJ'), ('transamin', 'NN'), ('evalu', 'JJ'), ('obstruct', 'NN'), ('process', 'NN')]\n",
      "[('pancreat', 'NN'), ('breast', 'NN'), ('cancer', 'NN'), ('output', 'NN'), ('enter', 'VBP'), ('tube', 'NN'), ('assess', 'NN'), ('tube', 'NN')]\n",
      "[('metastasi', 'NN'), ('pancreat', 'NN'), ('cancer', 'NN'), ('acut', 'VBD'), ('renal', 'JJ'), ('failur', 'NN'), ('evalu', 'NN'), ('hydronephrosi', 'NN'), ('obstruct', 'NN'), ('uropathi', 'NN')]\n"
     ]
    }
   ],
   "source": [
    "def pos_tagging(tokens):\n",
    "    # Realizar el etiquetado\n",
    "    tagged_tokens = pos_tag(tokens)\n",
    "    return tagged_tokens\n",
    "\n",
    "tokens1_Pt=pos_tagging(tokens1)\n",
    "tokens2_Pt=pos_tagging(tokens2)\n",
    "tokens3_Pt=pos_tagging(tokens3)\n",
    "\n",
    "print(tokens1_Pt)\n",
    "print(tokens2_Pt)\n",
    "print(tokens3_Pt)\n",
    "\n"
   ]
  },
  {
   "cell_type": "markdown",
   "metadata": {},
   "source": [
    "d. Aplicar Lematizacion"
   ]
  },
  {
   "cell_type": "code",
   "execution_count": 251,
   "metadata": {},
   "outputs": [
    {
     "name": "stdout",
     "output_type": "stream",
     "text": [
      "['pancreat', 'cancer', 'metastasi', 'jaundic', 'transamin', 'evalu', 'obstruct', 'process']\n",
      "['pancreat', 'breast', 'cancer', 'output', 'enter', 'tube', 'ass', 'tube']\n",
      "['metastasi', 'pancreat', 'cancer', 'acut', 'renal', 'failur', 'evalu', 'hydronephrosi', 'obstruct', 'uropathi']\n"
     ]
    }
   ],
   "source": [
    "# Obtenemos la etiqueta Pos de WordNet a partir de la etiqueta del Poustagging\n",
    "def obtener_pos_wordnet(etiqueta_treebank):\n",
    "    if etiqueta_treebank.startswith('J'):\n",
    "        return wordnet.ADJ\n",
    "    elif etiqueta_treebank.startswith('V'):\n",
    "        return wordnet.VERB\n",
    "    elif etiqueta_treebank.startswith('N'):\n",
    "        return wordnet.NOUN\n",
    "    elif etiqueta_treebank.startswith('R'):\n",
    "        return wordnet.ADV\n",
    "    else:\n",
    "        return None\n",
    "\n",
    "# Función para lematizar una lista de tokens etiquetados\n",
    "def lematizar_tokens_Post(tokens_etiquetados):\n",
    "    lematizador = WordNetLemmatizer()  # Inicializa el lematizador\n",
    "    tokens_lematizados = []  # Lista para almacenar los tokens lematizados\n",
    "    # Itera sobre cada token y su etiqueta\n",
    "    for palabra, etiqueta in tokens_etiquetados:\n",
    "        etiqueta_wn = obtener_pos_wordnet(etiqueta)  # Obtiene la etiqueta de WordNet\n",
    "        # lematiza con base en la etiqueta correspondiente para mayor precisión\n",
    "        tokens_lematizados.append(lematizador.lemmatize(palabra, pos=etiqueta_wn))\n",
    "    return tokens_lematizados\n",
    "\n",
    "tokens1=lematizar_tokens_Post(tokens1_Pt)\n",
    "tokens2=lematizar_tokens_Post(tokens2_Pt)\n",
    "tokens3=lematizar_tokens_Post(tokens3_Pt)\n",
    "\n",
    "print(tokens1)\n",
    "print(tokens2)\n",
    "print(tokens3)"
   ]
  },
  {
   "cell_type": "markdown",
   "metadata": {},
   "source": [
    "2. Generar y mostrar el vocabulario de términos únicos extraídos de los documentos normalizados y también el histograma de tales términos."
   ]
  },
  {
   "cell_type": "code",
   "execution_count": 252,
   "metadata": {},
   "outputs": [
    {
     "data": {
      "image/png": "[encoded data removed]",
      "text/plain": [
       "<Figure size 1000x600 with 1 Axes>"
      ]
     },
     "metadata": {},
     "output_type": "display_data"
    }
   ],
   "source": [
    "def frecuencias_token(tokens):\n",
    "    # Creamos un diccionario donde se almacena cada token con su respectiva frecuencia\n",
    "    token_frequencies = {}\n",
    "    for token in tokens:\n",
    "        token_frequencies[token] = token_frequencies.get(token, 0) + 1\n",
    "    return token_frequencies\n",
    "\n",
    "# Creamos el diccionario con las frecuencias de los tokens del documento 1\n",
    "tokens_f1 = frecuencias_token(tokens1)\n",
    "\n",
    "tokens_sorted_1 = sorted(tokens_f1.items(), key=lambda item: item[1], reverse=True)\n",
    "top_tokens_normalized_1 = [token for token, freq in tokens_sorted_1]\n",
    "top_frequencies_normalized_2 = [freq for token, freq in tokens_sorted_1]\n",
    "\n",
    "plt.figure(figsize=(10, 6))\n",
    "plt.bar(top_tokens_normalized_1, top_frequencies_normalized_2)\n",
    "plt.xlabel('Tokens')\n",
    "plt.ylabel('Frecuencia')\n",
    "plt.title('Tokens Documento 1')\n",
    "plt.xticks(rotation=45)\n",
    "plt.tight_layout()\n",
    "plt.show()"
   ]
  },
  {
   "cell_type": "code",
   "execution_count": 253,
   "metadata": {},
   "outputs": [
    {
     "data": {
      "image/png": "[encoded data removed]",
      "text/plain": [
       "<Figure size 1000x600 with 1 Axes>"
      ]
     },
     "metadata": {},
     "output_type": "display_data"
    }
   ],
   "source": [
    "# Creamos el diccionario con las frecuencias de los tokens del documento 2\n",
    "tokens_f2 = frecuencias_token(tokens2)\n",
    "\n",
    "tokens_sorted_2 = sorted(tokens_f2.items(), key=lambda item: item[1], reverse=True)\n",
    "top_tokens_normalized_2 = [token for token, freq in tokens_sorted_2]\n",
    "top_frequencies_normalized_2 = [freq for token, freq in tokens_sorted_2]\n",
    "\n",
    "plt.figure(figsize=(10, 6))\n",
    "plt.bar(top_tokens_normalized_2, top_frequencies_normalized_2)\n",
    "plt.xlabel('Tokens')\n",
    "plt.ylabel('Frecuencia')\n",
    "plt.title('Tokens Documento 2')\n",
    "plt.xticks(rotation=45)\n",
    "plt.tight_layout()\n",
    "plt.show()"
   ]
  },
  {
   "cell_type": "code",
   "execution_count": 254,
   "metadata": {},
   "outputs": [
    {
     "data": {
      "image/png": "[encoded data removed]",
      "text/plain": [
       "<Figure size 1000x600 with 1 Axes>"
      ]
     },
     "metadata": {},
     "output_type": "display_data"
    }
   ],
   "source": [
    "# Creamos el diccionario con las frecuencias de los tokens del documento 3\n",
    "tokens_f3 = frecuencias_token(tokens3)\n",
    "\n",
    "tokens_sorted_3 = sorted(tokens_f3.items(), key=lambda item: item[1], reverse=True)\n",
    "top_tokens_normalized_3 = [token for token, freq in tokens_sorted_3]\n",
    "top_frequencies_normalized_3 = [freq for token, freq in tokens_sorted_3]\n",
    "\n",
    "plt.figure(figsize=(10, 6))\n",
    "plt.bar(top_tokens_normalized_3, top_frequencies_normalized_3)\n",
    "plt.xlabel('Tokens')\n",
    "plt.ylabel('Frecuencia')\n",
    "plt.title('Tokens Documento 3')\n",
    "plt.xticks(rotation=45)\n",
    "plt.tight_layout()\n",
    "plt.show()"
   ]
  },
  {
   "cell_type": "markdown",
   "metadata": {},
   "source": [
    "3. Generar los vectores para representar numéricamente cada documento de acuerdo con las siguientes técnicas:"
   ]
  },
  {
   "cell_type": "markdown",
   "metadata": {},
   "source": [
    "a. One Hot Encoding"
   ]
  },
  {
   "cell_type": "code",
   "execution_count": 255,
   "metadata": {},
   "outputs": [
    {
     "name": "stdout",
     "output_type": "stream",
     "text": [
      "Este es el vocabulario de los documentos:\n",
      "{'cancer', 'obstruct', 'tube', 'hydronephrosi', 'enter', 'metastasi', 'breast', 'output', 'ass', 'acut', 'failur', 'renal', 'transamin', 'evalu', 'uropathi', 'pancreat', 'process', 'jaundic'}\n",
      "Estos son los vectores generados en el OHE para los documentos\n",
      "{'doc1': [1, 1, 0, 0, 0, 1, 0, 0, 0, 0, 0, 0, 1, 1, 0, 1, 1, 1], 'doc2': [1, 0, 1, 0, 1, 0, 1, 1, 1, 0, 0, 0, 0, 0, 0, 1, 0, 0], 'doc3': [1, 1, 0, 1, 0, 1, 0, 0, 0, 1, 1, 1, 0, 1, 1, 1, 0, 0]}\n"
     ]
    }
   ],
   "source": [
    "#Generar lista de documetnos\n",
    "lista_documentos = [tokens_f1, tokens_f2, tokens_f3]\n",
    "\n",
    "# Creamos el vocabulario de todos los documentos\n",
    "vocabulario = set(termino for doc in lista_documentos for termino in doc.keys())\n",
    "\n",
    "\n",
    "def codificacion_one_hot(documentos, vocabulario):\n",
    "    # Inicializa el diccionario para almacenar los vectores Codificados en One Hot\n",
    "    documentos_codificados_one_hot = {}\n",
    "    # Itera sobre cada documento y crea un vector\n",
    "    for i, doc in enumerate(documentos, 1):  # Comenzando el índice en 1 para los identificadores de documentos\n",
    "        # Crea un vector con 1 si el término está presente en el documento, de lo contrario 0\n",
    "        vector = [1 if termino in doc else 0 for termino in vocabulario]\n",
    "        documentos_codificados_one_hot[f'doc{i}'] = vector\n",
    "\n",
    "    return documentos_codificados_one_hot\n",
    "\n",
    "vectores_one_hot = codificacion_one_hot(lista_documentos, vocabulario)\n",
    "print(\"Este es el vocabulario de los documentos:\")\n",
    "print(vocabulario)\n",
    "print(\"Estos son los vectores generados en el OHE para los documentos\")\n",
    "print(vectores_one_hot)"
   ]
  },
  {
   "cell_type": "markdown",
   "metadata": {},
   "source": [
    "b. Cantidad de terminos"
   ]
  },
  {
   "cell_type": "code",
   "execution_count": 256,
   "metadata": {},
   "outputs": [
    {
     "name": "stdout",
     "output_type": "stream",
     "text": [
      "Este es el vocabulario de los documentos:\n",
      "{'cancer', 'obstruct', 'tube', 'hydronephrosi', 'enter', 'metastasi', 'breast', 'output', 'ass', 'acut', 'failur', 'renal', 'transamin', 'evalu', 'uropathi', 'pancreat', 'process', 'jaundic'}\n",
      "Estos son los vectores generados en el TC para los documentos\n",
      "{'doc1': [1, 1, 0, 0, 0, 1, 0, 0, 0, 0, 0, 0, 1, 1, 0, 1, 1, 1], 'doc2': [1, 0, 2, 0, 1, 0, 1, 1, 1, 0, 0, 0, 0, 0, 0, 1, 0, 0], 'doc3': [1, 1, 0, 1, 0, 1, 0, 0, 0, 1, 1, 1, 0, 1, 1, 1, 0, 0]}\n"
     ]
    }
   ],
   "source": [
    "\n",
    "def codificacion_cuenta_terminos(documentos, vocabulario):\n",
    "    # Inicializa el diccionario para almacenar los vectores del Trem Count\n",
    "    vector_TC = {}\n",
    "    # Itera sobre cada documento y crea un vector\n",
    "    for i, doc in enumerate(documentos, 1):  # Comenzando el índice en 1 para los identificadores de documentos\n",
    "        # Crea un vector con la frecuencia de cada término si está en el documento, de lo contrario 0\n",
    "        vector = [doc.get(termino, 0) for termino in vocabulario]\n",
    "        vector_TC[f'doc{i}'] = vector\n",
    "    return vector_TC\n",
    "\n",
    "vector_TC = codificacion_cuenta_terminos(lista_documentos, vocabulario)\n",
    "print(\"Este es el vocabulario de los documentos:\")\n",
    "print(vocabulario)\n",
    "print(\"Estos son los vectores generados en el TC para los documentos\")\n",
    "print(vector_TC)"
   ]
  },
  {
   "cell_type": "markdown",
   "metadata": {},
   "source": [
    "c. Probabilidad de terminos"
   ]
  },
  {
   "cell_type": "code",
   "execution_count": 257,
   "metadata": {},
   "outputs": [
    {
     "name": "stdout",
     "output_type": "stream",
     "text": [
      "Este es la bolsa de palabras de los documentos:\n",
      "[['pancreatic', 'cancer', 'with', 'metastasis', 'jaundice', 'with', 'transaminitis', 'evaluate', 'for', 'obstruction', 'process'], ['pancreatitis', 'breast', 'cancer', 'no', 'output', 'from', 'enteric', 'tube', 'assess', 'tube'], ['metastasis', 'pancreatic', 'cancer', 'acute', 'renal', 'failure', 'evaluate', 'for', 'hydronephrosis', 'or', 'obstructive', 'uropathy']]\n",
      "Esta es la cantidad de palabras en la bolsa de palabras:\n",
      "33\n",
      "Este es el vocabulario de los documentos:\n",
      "{'cancer', 'obstruct', 'tube', 'hydronephrosi', 'enter', 'metastasi', 'breast', 'output', 'ass', 'acut', 'failur', 'renal', 'transamin', 'evalu', 'uropathi', 'pancreat', 'process', 'jaundic'}\n",
      "Estos son los vectores generados en la probabilidad de terminos para los documentos\n",
      "{'doc1': [0.030303030303030304, 0.030303030303030304, 0, 0, 0, 0.030303030303030304, 0, 0, 0, 0, 0, 0, 0.030303030303030304, 0.030303030303030304, 0, 0.030303030303030304, 0.030303030303030304, 0.030303030303030304], 'doc2': [0.030303030303030304, 0, 0.06060606060606061, 0, 0.030303030303030304, 0, 0.030303030303030304, 0.030303030303030304, 0.030303030303030304, 0, 0, 0, 0, 0, 0, 0.030303030303030304, 0, 0], 'doc3': [0.030303030303030304, 0.030303030303030304, 0, 0.030303030303030304, 0, 0.030303030303030304, 0, 0, 0, 0.030303030303030304, 0.030303030303030304, 0.030303030303030304, 0, 0.030303030303030304, 0.030303030303030304, 0.030303030303030304, 0, 0]}\n"
     ]
    }
   ],
   "source": [
    "#Creamos una funcion para contar el tamaño de la bolsa de palabras\n",
    "def contar_terminos(bolsa_palabras):\n",
    "    # Inicializa el contador\n",
    "    total_terminos = 0\n",
    "    # Itera sobre cada sublista en la lista principal\n",
    "    for sublista in bolsa_palabras:\n",
    "        # Suma la longitud de cada sublista al contador total\n",
    "        total_terminos += len(sublista)\n",
    "    return total_terminos\n",
    "\n",
    "#Creamos una lista con la bolsa de palabras del corpus\n",
    "bolsa_palabras = [tokens1_copy, tokens2_copy, tokens3_copy]\n",
    "\n",
    "# Calcula el número total de términos en el corpus\n",
    "total_terminos = contar_terminos(bolsa_palabras)\n",
    "\n",
    "def probabilidad_termino(lista_documentos, total_terminos, vocabulario):\n",
    "    # Inicializa el diccionario para almacenar las probabilidades de los términos por documento\n",
    "    probabilidades_por_documento = {}\n",
    "    \n",
    "    # Itera sobre cada documento para calcular las probabilidades de término\n",
    "    for i, doc in enumerate(lista_documentos, 1):\n",
    "        # Inicializa un diccionario para este documento\n",
    "        probabilidades = dict.fromkeys(vocabulario, 0)\n",
    "        # Actualiza la probabilidad para los términos que están en el documento\n",
    "        for term, freq in doc.items():\n",
    "            probabilidades[term] = freq / total_terminos\n",
    "        # Asigna la lista de probabilidades al documento correspondiente\n",
    "        probabilidades_por_documento[f'doc{i}'] = list(probabilidades.values())\n",
    "    \n",
    "    return probabilidades_por_documento\n",
    "\n",
    "probs_termino = probabilidad_termino(lista_documentos, total_terminos, vocabulario)\n",
    "print(\"Este es la bolsa de palabras de los documentos:\")\n",
    "print(bolsa_palabras)\n",
    "print(\"Esta es la cantidad de palabras en la bolsa de palabras:\")\n",
    "print(total_terminos)\n",
    "print(\"Este es el vocabulario de los documentos:\")\n",
    "print(vocabulario)\n",
    "print(\"Estos son los vectores generados en la probabilidad de terminos para los documentos\")\n",
    "print(probs_termino)"
   ]
  },
  {
   "cell_type": "markdown",
   "metadata": {},
   "source": [
    "d. Term Frequency"
   ]
  },
  {
   "cell_type": "code",
   "execution_count": 258,
   "metadata": {},
   "outputs": [
    {
     "name": "stdout",
     "output_type": "stream",
     "text": [
      "Este es el vocabulario de los documentos:\n",
      "{'cancer', 'obstruct', 'tube', 'hydronephrosi', 'enter', 'metastasi', 'breast', 'output', 'ass', 'acut', 'failur', 'renal', 'transamin', 'evalu', 'uropathi', 'pancreat', 'process', 'jaundic'}\n",
      "Estos son los vectores de frecuencia de términos para cada documento:\n",
      "{'doc1': [0.125, 0.125, 0, 0, 0, 0.125, 0, 0, 0, 0, 0, 0, 0.125, 0.125, 0, 0.125, 0.125, 0.125], 'doc2': [0.125, 0, 0.25, 0, 0.125, 0, 0.125, 0.125, 0.125, 0, 0, 0, 0, 0, 0, 0.125, 0, 0], 'doc3': [0.1, 0.1, 0, 0.1, 0, 0.1, 0, 0, 0, 0.1, 0.1, 0.1, 0, 0.1, 0.1, 0.1, 0, 0]}\n"
     ]
    }
   ],
   "source": [
    "def term_f(lista_documentos, vocabulario):\n",
    "    # Inicializa el diccionario para almacenar las frecuencias de los términos por documento\n",
    "    frecuencia_doc = {}\n",
    "    \n",
    "    # Itera sobre cada documento para calcular las frecuencias de término\n",
    "    for i, doc in enumerate(lista_documentos, 1):\n",
    "        # Inicializa un diccionario para este documento\n",
    "        frecuencias = dict.fromkeys(vocabulario, 0)\n",
    "        # Calcula el total de términos en el documento actual\n",
    "        total_terminos_en_documento = sum(doc.values())\n",
    "        # Actualiza la frecuencia para los términos que están en el documento\n",
    "        for term, freq in doc.items():\n",
    "            frecuencias[term] = freq / total_terminos_en_documento\n",
    "        # Asigna la lista de frecuencias al documento correspondiente\n",
    "        frecuencia_doc[f'doc{i}'] = list(frecuencias.values())\n",
    "    \n",
    "    return frecuencia_doc\n",
    "\n",
    "frec_term = term_f(lista_documentos, vocabulario)\n",
    "\n",
    "print(\"Este es el vocabulario de los documentos:\")\n",
    "print(vocabulario)\n",
    "print(\"Estos son los vectores de frecuencia de términos para cada documento:\")\n",
    "print(frec_term)"
   ]
  },
  {
   "cell_type": "markdown",
   "metadata": {},
   "source": [
    "e. IDF"
   ]
  }
 ],
 "metadata": {
  "kernelspec": {
   "display_name": "Python 3",
   "language": "python",
   "name": "python3"
  },
  "language_info": {
   "codemirror_mode": {
    "name": "ipython",
    "version": 3
   },
   "file_extension": ".py",
   "mimetype": "text/x-python",
   "name": "python",
   "nbconvert_exporter": "python",
   "pygments_lexer": "ipython3",
   "version": "3.12.0"
  }
 },
 "nbformat": 4,
 "nbformat_minor": 2
}
