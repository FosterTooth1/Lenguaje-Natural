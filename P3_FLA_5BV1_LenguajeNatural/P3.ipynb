{
 "cells": [
  {
   "cell_type": "markdown",
   "metadata": {},
   "source": [
    "Flores Lara Alberto\n",
    "5BV1\n",
    "Ingenieria en IA"
   ]
  },
  {
   "cell_type": "markdown",
   "metadata": {},
   "source": [
    "Generacion del cuerpo compuesto de 6 libros"
   ]
  },
  {
   "cell_type": "code",
   "execution_count": 69,
   "metadata": {},
   "outputs": [],
   "source": [
    "import re\n",
    "import numpy as np\n",
    "from nltk.tokenize import word_tokenize\n",
    "from nltk.corpus import stopwords\n",
    "from sklearn.feature_extraction.text import TfidfVectorizer \n",
    "from transformers import BertModel, BertTokenizer\n",
    "import torch\n",
    "from rake_nltk import Rake\n",
    "import spacy\n",
    "from collections import Counter\n",
    "from sumy.parsers.plaintext import PlaintextParser\n",
    "from sumy.nlp.tokenizers import Tokenizer\n",
    "from sumy.nlp.stemmers import Stemmer\n",
    "from sumy.summarizers.text_rank import TextRankSummarizer\n",
    "from sumy.summarizers.lsa import LsaSummarizer"
   ]
  },
  {
   "cell_type": "code",
   "execution_count": 70,
   "metadata": {},
   "outputs": [],
   "source": [
    "Titulos = [\"Dracula.txt\", \"The Strange Case of Dr. Jekyll and Mr. Hyde.txt\", \"Metamorphosis.txt\",\"Riders of the Purple Sage.txt\",\"The Light of the Western Stars.txt\", \"The Man of the Forest.txt\"]\n",
    "# Obtenemos el texto previamente almacenado en un archivo txt \n",
    "cuerpo = []\n",
    "for titulo in Titulos:\n",
    "    with open(titulo, 'r', encoding='utf-8') as archivo:\n",
    "        Texto=archivo.read()\n",
    "    cuerpo.append(Texto)\n"
   ]
  },
  {
   "cell_type": "markdown",
   "metadata": {},
   "source": [
    "Limpieza del texto"
   ]
  },
  {
   "cell_type": "code",
   "execution_count": 71,
   "metadata": {},
   "outputs": [],
   "source": [
    "# Definimos las funciones de preprocesamiento de texto\n",
    "def minusculas(texto):\n",
    "    texto_minusculas = texto.lower()\n",
    "    return texto_minusculas\n",
    "\n",
    "def caracteresesp(texto):\n",
    "    texto_sin_caracteres = re.sub(r'[^a-zA-Z0-9\\s]', '', texto)\n",
    "    return texto_sin_caracteres\n",
    "\n",
    "def quitaresp(texto):\n",
    "    Texto_sin_espacios = \" \".join(texto.split())\n",
    "    return Texto_sin_espacios\n",
    "\n",
    "def stooopwords(tokens):\n",
    "    stop_words = set(stopwords.words('english'))\n",
    "    texto_sin_stopword = [w for w in tokens if w.lower() not in stop_words]\n",
    "    return texto_sin_stopword\n",
    "\n",
    "def tokenizar(texto):\n",
    "    tokens = word_tokenize(texto)\n",
    "    return tokens\n",
    "\n",
    "# Procesamos el texto de cada libro\n",
    "def aplicar_procesamiento(cuerpos):\n",
    "    cuerpos_procesados = []\n",
    "    for cuerpo in cuerpos:\n",
    "        cuerpo_procesado = minusculas(cuerpo)\n",
    "        cuerpo_procesado = caracteresesp(cuerpo_procesado)\n",
    "        cuerpo_procesado = quitaresp(cuerpo_procesado)\n",
    "        tokens = tokenizar(cuerpo_procesado)\n",
    "        tokens = stooopwords(tokens)\n",
    "        cuerpos_procesados.append(tokens)\n",
    "    return cuerpos_procesados\n",
    "\n",
    "cuerpos_procesados = aplicar_procesamiento(cuerpo)\n",
    "\n",
    "# Convertimos tokens del preprocesamiento a texto \n",
    "cuerpos_procesados = [' '.join(tokens) for tokens in cuerpos_procesados]"
   ]
  },
  {
   "cell_type": "markdown",
   "metadata": {},
   "source": [
    "TF - IDF"
   ]
  },
  {
   "cell_type": "code",
   "execution_count": 72,
   "metadata": {},
   "outputs": [
    {
     "name": "stdout",
     "output_type": "stream",
     "text": [
      "Las 5 palabras más representativas de 'Dracula.txt':\n",
      "['van', 'helsing', 'said', 'lucy', 'could']\n",
      "\n",
      "Las 5 palabras más representativas de 'The Strange Case of Dr. Jekyll and Mr. Hyde.txt':\n",
      "['utterson', 'jekyll', 'hyde', 'mr', 'poole']\n",
      "\n",
      "Las 5 palabras más representativas de 'Metamorphosis.txt':\n",
      "['gregor', 'gregors', 'would', 'room', 'could']\n",
      "\n",
      "Las 5 palabras más representativas de 'Riders of the Purple Sage.txt':\n",
      "['venters', 'jane', 'lassiter', 'bess', 'withersteen']\n",
      "\n",
      "Las 5 palabras más representativas de 'The Light of the Western Stars.txt':\n",
      "['madeline', 'stewart', 'stillwell', 'cowboys', 'nels']\n",
      "\n",
      "Las 5 palabras más representativas de 'The Man of the Forest.txt':\n",
      "['helen', 'bo', 'dale', 'roy', 'beasley']\n",
      "\n"
     ]
    }
   ],
   "source": [
    "# Inicializamos el vectorizador TF-IDF\n",
    "vectorizer = TfidfVectorizer() \n",
    "tfidf = vectorizer.fit_transform(cuerpos_procesados) \n",
    "\n",
    "# Obtenemos las palabras\n",
    "feature_names = vectorizer.get_feature_names_out()\n",
    "\n",
    "# Iteramos sobre los libros\n",
    "for i, texto in enumerate(cuerpos_procesados):\n",
    "    # Obtener el vector TF-IDF del libro actual\n",
    "    tfidf_vector = tfidf[i]\n",
    "\n",
    "    # Obtenemos los índices de las palabras con mayor valor TF-IDF\n",
    "    top_indices = np.argsort(tfidf_vector.toarray()).flatten()[::-1][:5]\n",
    "\n",
    "    # Obtenemos las palabras más representativas\n",
    "    top_words = [feature_names[ind] for ind in top_indices]\n",
    "\n",
    "    # Se imprimen las palabras más representativas del libro\n",
    "    print(f\"Las 5 palabras más representativas de '{Titulos[i]}':\")\n",
    "    print(top_words)\n",
    "    print()"
   ]
  },
  {
   "cell_type": "markdown",
   "metadata": {},
   "source": [
    "BERT - Transformers"
   ]
  },
  {
   "cell_type": "code",
   "execution_count": 73,
   "metadata": {},
   "outputs": [
    {
     "name": "stderr",
     "output_type": "stream",
     "text": [
      "c:\\Users\\albsa\\AppData\\Local\\Programs\\Python\\Python312\\Lib\\site-packages\\huggingface_hub\\file_download.py:1132: FutureWarning: `resume_download` is deprecated and will be removed in version 1.0.0. Downloads always resume when possible. If you want to force a new download, use `force_download=True`.\n",
      "  warnings.warn(\n"
     ]
    },
    {
     "name": "stdout",
     "output_type": "stream",
     "text": [
      "Las 5 palabras principales de 'Dracula.txt':\n",
      "['took', 'far', 'go', 'stopped', 'good']\n",
      "\n",
      "Las 5 palabras principales de 'The Strange Case of Dr. Jekyll and Mr. Hyde.txt':\n",
      "['see', 'spoke', 'friends', 'never', 'face']\n",
      "\n",
      "Las 5 palabras principales de 'Metamorphosis.txt':\n",
      "['back', 'touched', 'thought', 'would', 'back']\n",
      "\n",
      "Las 5 palabras principales de 'Riders of the Purple Sage.txt':\n",
      "['mountainous', 'thought', 'wondered', 'vast', 'clouds']\n",
      "\n",
      "Las 5 palabras principales de 'The Light of the Western Stars.txt':\n",
      "['looked', 'silent', 'low', 'window', 'could']\n",
      "\n",
      "Las 5 palabras principales de 'The Man of the Forest.txt':\n",
      "['lay', 'lay', 'change', 'dark', 'miles']\n",
      "\n"
     ]
    }
   ],
   "source": [
    "# Cargar el modelo BERT pre-entrenado y el tokenizador\n",
    "model = BertModel.from_pretrained(\"bert-base-uncased\")\n",
    "tokenizer = BertTokenizer.from_pretrained(\"bert-base-uncased\")\n",
    "\n",
    "def obtener_top_palabras(texto, top_n=5):\n",
    "    # Tokenizamos el texto\n",
    "    tokens = tokenizer(texto, return_tensors=\"pt\", truncation=True, padding=True)\n",
    "    \n",
    "    # Pasamos el input por BERT para obtener los embeddings\n",
    "    with torch.no_grad():\n",
    "        output = model(**tokens)\n",
    "    word_embeddings = output.last_hidden_state.squeeze(0)\n",
    "    \n",
    "    # Usamos la media de las representaciones para obtener el embedding de la oración\n",
    "    sentence_embedding = word_embeddings.mean(dim=0)\n",
    "\n",
    "    # Se calcula la similitud entre las palabras y la oración\n",
    "    similarities = torch.nn.functional.cosine_similarity(word_embeddings, sentence_embedding.unsqueeze(0), dim=1)\n",
    "\n",
    "    # Ordenamos por similitud y obtener los índices de las palabras más similares\n",
    "    sorted_indices = torch.argsort(similarities, descending=True).tolist()\n",
    "    \n",
    "    # Convertir tokens a palabras originales\n",
    "    tokens_text = tokenizer.convert_ids_to_tokens(tokens['input_ids'].squeeze(0).tolist())\n",
    "\n",
    "    # Obtenemos las top_n palabras más representativas\n",
    "    top_palabras = [tokens_text[idx] for idx in sorted_indices if tokens_text[idx] not in [\"[CLS]\", \"[SEP]\"]][:top_n]\n",
    "\n",
    "    return top_palabras\n",
    "\n",
    "# Se imprimen las palabras más representativas del libro\n",
    "for i, texto in enumerate(cuerpos_procesados):\n",
    "    top_palabras = obtener_top_palabras(texto)\n",
    "    print(f\"Las 5 palabras principales de '{Titulos[i]}':\")\n",
    "    print(top_palabras)\n",
    "    print()"
   ]
  },
  {
   "cell_type": "markdown",
   "metadata": {},
   "source": [
    "Rake - Nltk"
   ]
  },
  {
   "cell_type": "code",
   "execution_count": 74,
   "metadata": {},
   "outputs": [
    {
     "name": "stdout",
     "output_type": "stream",
     "text": [
      "Las 5 palabras principales de 'Dracula.txt':\n",
      "['“ lenore ”:-- “ denn die todten reiten schnell ”-- (“', 'repeater apiece !” “ good !” said van helsing', '‘ _dos pou sto_ ,’ said archimedes', '“ bloofer lady .” chapter xiv mina harker ’', '“ dear sirs ,-- “ herewith please receive invoice']\n",
      "\n",
      "Las 5 palabras principales de 'The Strange Case of Dr. Jekyll and Mr. Hyde.txt':\n",
      "['differently sloped .” “ rather quaint ,” said utterson', 'exorbitant alarms .” “ sir ,” said', 'period exceeding three calendar months ,”', '“ double ” occurring perhaps six times', 'useful .” “ yes ,” returned mr']\n",
      "\n",
      "Las 5 palabras principales de 'Metamorphosis.txt':\n",
      "['trainees make enquiries — assuming enquiries', 'room several times without anything decisive happening', 'little legs along one side hung quivering', 'electric street lamps shone palely', 'concealed behind carefully carved furniture full']\n",
      "\n",
      "Las 5 palabras principales de 'Riders of the Purple Sage.txt':\n",
      "['familiar characteristics — masked feeling — strange secretiveness — expressionless expression', 'wisest .” “ oh ... miss withersteen !” ejaculated', 'worthless rider ?” “ worthless !” exclaimed jane', 'insinuatin ’ nothin ’, miss withersteen ,” answered judkins', 'dull revolver shots — hoarse yells — pound']\n",
      "\n",
      "Las 5 palabras principales de 'The Light of the Western Stars.txt':\n",
      "['july 31 .— rebel soldiers looted many homes', 'mean nels would shoot upon little provocation ?” “ miss hammond', 'employed three cowboy scouts whose sole duty', 'boarding married women .” “ indeed ?” said madeline', 'modern women whose eyes shed soft light upon coarse']\n",
      "\n",
      "Las 5 palabras principales de 'The Man of the Forest.txt':\n",
      "['merely objective actions -- merely physical movements', 'death -- wilson hero -- another tom carmichael -- fallen', '-- ye -- see er hear -- anythin \\'?\"', 'gunman riggs liked thet plumb center peg !\"', 'mister gunman riggs hyar ,\" replied anson']\n",
      "\n"
     ]
    }
   ],
   "source": [
    "# Inicializamos el objeto de Rake\n",
    "rake_nltk_var = Rake()\n",
    "\n",
    "# Iterar sobre cada libro en el cuerpo\n",
    "for i, texto in enumerate(cuerpo):\n",
    "    # Extraemos las palabras clave del texto actual\n",
    "    rake_nltk_var.extract_keywords_from_text(texto)\n",
    "    keyword_extracted = rake_nltk_var.get_ranked_phrases()\n",
    "    \n",
    "    # Seleccionamos las 5 palabras principales\n",
    "    top_keywords = keyword_extracted[:5]\n",
    "    \n",
    "    # Se imprimen las palabras más representativas del libro\n",
    "    print(f\"Las 5 palabras principales de '{Titulos[i]}':\")\n",
    "    print(top_keywords)\n",
    "    print()"
   ]
  },
  {
   "cell_type": "markdown",
   "metadata": {},
   "source": [
    "Spacy"
   ]
  },
  {
   "cell_type": "code",
   "execution_count": 75,
   "metadata": {},
   "outputs": [
    {
     "name": "stdout",
     "output_type": "stream",
     "text": [
      "Las 5 frases principales de 'Dracula.txt':\n",
      "1. say way\n",
      "2. jonathan saw told\n",
      "3. dr van helsing gone room\n",
      "4. sight seen man\n",
      "5. coming night\n",
      "\n",
      "Las 5 frases principales de 'The Strange Case of Dr. Jekyll and Mr. Hyde.txt':\n",
      "1. mr utterson lawyer\n",
      "2. mr hyde\n",
      "3. hyde hyde indifferent jekyll\n",
      "4. mr utterson hard man\n",
      "5. mr utterson hand\n",
      "\n",
      "Las 5 frases principales de 'Metamorphosis.txt':\n",
      "1. gregor gregor\n",
      "2. door gregors room sister\n",
      "3. efforts gregors mother sister look gregor\n",
      "4. long gregor gregor\n",
      "5. gregor room\n",
      "\n",
      "Las 5 frases principales de 'Riders of the Purple Sage.txt':\n",
      "1. jane venters\n",
      "2. lassiter jane venters\n",
      "3. rider venters\n",
      "4. venters rider\n",
      "5. come venters\n",
      "\n",
      "Las 5 frases principales de 'The Light of the Western Stars.txt':\n",
      "1. madeline madeline\n",
      "2. madeline stillwell men\n",
      "3. madeline madeline arranged coat\n",
      "4. man madeline hammond\n",
      "5. gene stewart madeline\n",
      "\n",
      "Las 5 frases principales de 'The Man of the Forest.txt':\n",
      "1. helen dale\n",
      "2. helen dales\n",
      "3. bo helen\n",
      "4. helen bo\n",
      "5. seeing helen\n",
      "\n"
     ]
    }
   ],
   "source": [
    "# Cargamos el modelo de spaCy\n",
    "nlp = spacy.load(\"en_core_web_sm\")\n",
    "\n",
    "# Agregamos el TextRank al pipeline de spaCy\n",
    "nlp.add_pipe(\"textrank\")\n",
    "\n",
    "# Iteramos sobre cada libro en el cuerpo\n",
    "for i, texto in enumerate(cuerpos_procesados):\n",
    "    # procesar el texto con spaCy\n",
    "    doc = nlp(texto)\n",
    "    \n",
    "    # Se imprimen las frases más representativas del libro\n",
    "    print(f\"Las 5 frases principales de '{Titulos[i]}':\")\n",
    "    for j, phrase in enumerate(doc._.phrases[:5]):\n",
    "        print(f\"{j + 1}. {phrase.text}\")\n",
    "    print()"
   ]
  },
  {
   "cell_type": "markdown",
   "metadata": {},
   "source": [
    "Resumen de los primeros capitulos"
   ]
  },
  {
   "cell_type": "code",
   "execution_count": 76,
   "metadata": {},
   "outputs": [],
   "source": [
    "# Función para cargar y extraer el primer capítulo del libro\n",
    "def cargar_y_extraer_primer_capitulo(nombre_archivo):\n",
    "    with open(nombre_archivo, 'r', encoding='utf-8') as archivo:\n",
    "        texto = archivo.read()\n",
    "        # Definimos una re para identificar los capitulos\n",
    "        capitulos = re.split(r'\\nCHAPTER \\w+', texto)\n",
    "        # Devuelve el primer capítulo\n",
    "        return capitulos[1] if len(capitulos) > 1 else texto\n",
    "\n",
    "# Seleccionamos dos libros de nuestro cuerpo\n",
    "titulos = [\"Dracula.txt\", \"The Man of the Forest.txt\"]\n",
    "textos_primeros_capitulos = [cargar_y_extraer_primer_capitulo(titulo) for titulo in titulos]"
   ]
  },
  {
   "cell_type": "markdown",
   "metadata": {},
   "source": [
    "Frecuencias normalizadas"
   ]
  },
  {
   "cell_type": "code",
   "execution_count": 77,
   "metadata": {},
   "outputs": [
    {
     "name": "stdout",
     "output_type": "stream",
     "text": [
      "Resumen del libro 1:\n",
      "One\n",
      "by one several of the passengers offered me gifts, which they pressed\n",
      "upon me with an earnestness which would take no denial; these were\n",
      "certainly of an odd and varied kind, but each was given in simple good\n",
      "faith, with a kindly word, and a blessing, and that strange mixture of\n",
      "fear-meaning movements which I had seen outside the hotel at\n",
      "Bistritz--the sign of the cross and the guard against the evil eye.\n",
      " Sometimes, as the road was cut through the pine woods\n",
      "that seemed in the darkness to be closing down upon us, great masses of\n",
      "greyness, which here and there bestrewed the trees, produced a\n",
      "peculiarly weird and solemn effect, which carried on the thoughts and\n",
      "grim fancies engendered earlier in the evening, when the falling sunset\n",
      "threw into strange relief the ghost-like clouds which amongst the\n",
      "Carpathians seem to wind ceaselessly through the valleys. Right\n",
      "and left of us they towered, with the afternoon sun falling full upon\n",
      "them and bringing out all the glorious colours of this beautiful range,\n",
      "deep blue and purple in the shadows of the peaks, green and brown where\n",
      "grass and rock mingled, and an endless perspective of jagged rock and\n",
      "pointed crags, till these were themselves lost in the distance, where\n",
      "the snowy peaks rose grandly. Then, far off in the distance, from the mountains on each\n",
      "side of us began a louder and a sharper howling--that of wolves--which\n",
      "affected both the horses and myself in the same way--for I was minded to\n",
      "jump from the calèche and run, whilst they reared again and plunged\n",
      "madly, so that the driver had to use all his great strength to keep them\n",
      "from bolting. I could not see any cause\n",
      "for it, for the howling of the wolves had ceased altogether; but just\n",
      "then the moon, sailing through the black clouds, appeared behind the\n",
      "jagged crest of a beetling, pine-clad rock, and by its light I saw\n",
      "around us a ring of wolves, with white teeth and lolling red tongues,\n",
      "with long, sinewy limbs and shaggy hair. As the evening fell it began to get very cold,\n",
      "and the growing twilight seemed to merge into one dark mistiness the\n",
      "gloom of the trees, oak, beech, and pine, though in the valleys which\n",
      "ran deep between the spurs of the hills, as we ascended through the\n",
      "Pass, the dark firs stood out here and there against the background of\n",
      "late-lying snow. As they sank into the darkness I felt a\n",
      "strange chill, and a lonely feeling came over me; but a cloak was thrown\n",
      "over my shoulders, and a rug across my knees, and the driver said in\n",
      "excellent German:--\n",
      "\n",
      "“The night is chill, mein Herr, and my master the Count bade me take all\n",
      "care of you. Suddenly, I became conscious of the fact that the\n",
      "driver was in the act of pulling up the horses in the courtyard of a\n",
      "vast ruined castle, from whose tall black windows came no ray of light,\n",
      "and whose broken battlements showed a jagged line against the moonlit\n",
      "sky.\n",
      "\n",
      "\n",
      "\n",
      " In and out amongst these\n",
      "green hills of what they call here the “Mittel Land” ran the road,\n",
      "losing itself as it swept round the grassy curve, or was shut out by the\n",
      "straggling ends of pine woods, which here and there ran down the\n",
      "hillsides like tongues of flame. The strangest figures we saw were the\n",
      "Slovaks, who were more barbarian than the rest, with their big cow-boy\n",
      "hats, great baggy dirty-white trousers, white linen shirts, and enormous\n",
      "heavy leather belts, nearly a foot wide, all studded over with brass\n",
      "nails.\n",
      "\n",
      "\n",
      "Resumen del libro 2:\n",
      "It was a wild, richly timbered, and abundantly watered region of dark\n",
      "forests and grassy parks, ten thousand feet above sea-level, isolated\n",
      "on all sides by the southern Arizona desert--the virgin home of elk and\n",
      "deer, of bear and lion, of wolf and fox, and the birthplace as well as\n",
      "the hiding-place of the fierce Apache.\n",
      "\n",
      " \n",
      "\n",
      "At sunset hour the forest was still, lonely, sweet with tang of fir and\n",
      "spruce, blazing in gold and red and green; and the man who glided on\n",
      "under the great trees seemed to blend with the colors and, disappearing,\n",
      "to have become a part of the wild woodland.\n",
      "\n",
      " Milt Dale answered that\n",
      "question to Beasley's discredit; and many strange matters pertaining to\n",
      "sheep and herders, always a mystery to the little village of Pine, now\n",
      "became as clear as daylight.\n",
      "\n",
      " From overhead in the\n",
      "giant fir came a twittering and rustling of grouse settling for the\n",
      "night; and from across the valley drifted the last low calls of wild\n",
      "turkeys going to roost.\n",
      "\n",
      " Then, as the\n",
      "fire dropped behind the domed peak, a change, a cold and darkening\n",
      "blight, passed down the black spear-pointed slopes over all that\n",
      "mountain world.\n",
      "\n",
      " \"Are we goin' to winter down in the Tonto Basin\n",
      "or over on the Gila?\"\n",
      "\n",
      "\"Reckon we'll do some tall ridin' before we strike south,\" replied\n",
      "Snake, gruffly.\n",
      "\n",
      " That deep-voiced man below was Snake Anson, the worst\n",
      "and most dangerous character of the region; and the others, undoubtedly,\n",
      "composed his gang, long notorious in that sparsely settled country.\n",
      " \"\n",
      "\n",
      "Beasley spread his hands once more over the blaze, pulled on his gloves\n",
      "and pulled down his sombrero, and with an abrupt word of parting strode\n",
      "out into the night.\n",
      "\n",
      " Dale's gaze swept up and down\n",
      "the valley, and then tried to pierce the black shadows across the brook\n",
      "where the wall of spruce stood up, its speared and spiked crest against\n",
      "the pale clouds. Quickly he turned to feel in the dark for a\n",
      "ladder he knew led to a loft; and finding it, he quickly mounted, taking\n",
      "care not to make a noise with his rifle, and lay down upon the floor\n",
      "of brush and poles.\n",
      "\n",
      "\n"
     ]
    }
   ],
   "source": [
    "# Cargamos el modelo de lenguaje de SpaCy\n",
    "nlp = spacy.load('en_core_web_sm')\n",
    "\n",
    "def generar_resumen(texto, num_sentencias=10):\n",
    "    doc = nlp(texto)\n",
    "    # Filtramos las palabras vacías y puntuar las palabras no vacías\n",
    "    palabras = [token.text.lower() for token in doc if not token.is_stop and not token.is_punct]\n",
    "    palabra_frecuencia = Counter(palabras)\n",
    "    max_frecuencia = max(palabra_frecuencia.values())\n",
    "    \n",
    "    # Normalizamos frecuencias\n",
    "    for palabra in palabra_frecuencia:\n",
    "        palabra_frecuencia[palabra] = palabra_frecuencia[palabra] / max_frecuencia\n",
    "    \n",
    "    # Puntuamos las oraciones\n",
    "    sentence_scores = {}\n",
    "    for sent in doc.sents:\n",
    "        for palabra in sent:\n",
    "            if palabra.text.lower() in palabra_frecuencia:\n",
    "                if sent in sentence_scores:\n",
    "                    sentence_scores[sent] += palabra_frecuencia[palabra.text.lower()]\n",
    "                else:\n",
    "                    sentence_scores[sent] = palabra_frecuencia[palabra.text.lower()]\n",
    "    \n",
    "    # Seleccionamos las oraciones con mayor puntuación\n",
    "    resumen = sorted(sentence_scores, key=sentence_scores.get, reverse=True)[:num_sentencias]\n",
    "    return ' '.join([sent.text for sent in resumen])\n",
    "\n",
    "# Se imprime el resumen del primer capitulo del libro\n",
    "for i, resumen in enumerate(textos_primeros_capitulos):\n",
    "    print(f\"Resumen del libro {i+1}:\")\n",
    "    resumen = generar_resumen(resumen)\n",
    "    print(resumen)\n",
    "    print(\"\\n\")"
   ]
  },
  {
   "cell_type": "markdown",
   "metadata": {},
   "source": [
    "Gensim"
   ]
  },
  {
   "cell_type": "markdown",
   "metadata": {},
   "source": [
    "# Función para resumir el texto\n",
    "def resumir_texto(texto, porcentaje=0.05):\n",
    "    resumen = summarize(texto, ratio=porcentaje)\n",
    "    if not resumen:\n",
    "         resumen = \"No se pudo generar un resumen con el porcentaje dado.\"\n",
    "    return resumen\n",
    "\n",
    "# Aplicar el resumen a cada texto\n",
    "resumenes = [resumir_texto(texto) for texto in textos_primeros_capitulos]\n",
    "\n",
    "# Imprimir los resúmenes\n",
    "for i, resumen in enumerate(resumenes):\n",
    "    print(f\"Resumen de '{titulos[i]}':\\n{resumen}\\n\")"
   ]
  },
  {
   "cell_type": "markdown",
   "metadata": {},
   "source": [
    "TextRank"
   ]
  },
  {
   "cell_type": "code",
   "execution_count": 78,
   "metadata": {},
   "outputs": [
    {
     "name": "stdout",
     "output_type": "stream",
     "text": [
      "Resumen de 'Dracula.txt':\n",
      "I find that the district he named is in the extreme east of the country, just on the borders of three states, Transylvania, Moldavia and Bukovina, in the midst of the Carpathian mountains; one of the wildest and least known portions of Europe.\n",
      "In the population of Transylvania there are four distinct nationalities: Saxons in the South, and mixed with them the Wallachs, who are the descendants of the Dacians; Magyars in the West, and Szekelys in the East and North.\n",
      "I shall never forget the last glimpse which I had of the inn-yard and its crowd of picturesque figures, all crossing themselves, as they stood round the wide archway, with its background of rich foliage of oleander and orange trees in green tubs clustered in the centre of the yard.\n",
      "Right and left of us they towered, with the afternoon sun falling full upon them and bringing out all the glorious colours of this beautiful range, deep blue and purple in the shadows of the peaks, green and brown where grass and rock mingled, and an endless perspective of jagged rock and pointed crags, till these were themselves lost in the distance, where the snowy peaks rose grandly.\n",
      "As the evening fell it began to get very cold, and the growing twilight seemed to merge into one dark mistiness the gloom of the trees, oak, beech, and pine, though in the valleys which ran deep between the spurs of the hills, as we ascended through the Pass, the dark firs stood out here and there against the background of late-lying snow.\n",
      "Sometimes, as the road was cut through the pine woods that seemed in the darkness to be closing down upon us, great masses of greyness, which here and there bestrewed the trees, produced a peculiarly weird and solemn effect, which carried on the thoughts and grim fancies engendered earlier in the evening, when the falling sunset threw into strange relief the ghost-like clouds which amongst the Carpathians seem to wind ceaselessly through the valleys.\n",
      "One by one several of the passengers offered me gifts, which they pressed upon me with an earnestness which would take no denial; these were certainly of an odd and varied kind, but each was given in simple good faith, with a kindly word, and a blessing, and that strange mixture of fear-meaning movements which I had seen outside the hotel at Bistritz--the sign of the cross and the guard against the evil eye.\n",
      "The sound was taken up by another dog, and then another and another, till, borne on the wind which now sighed softly through the Pass, a wild howling began, which seemed to come from all over the country, as far as the imagination could grasp it through the gloom of the night.\n",
      "Then, far off in the distance, from the mountains on each side of us began a louder and a sharper howling--that of wolves--which affected both the horses and myself in the same way--for I was minded to jump from the calèche and run, whilst they reared again and plunged madly, so that the driver had to use all his great strength to keep them from bolting.\n",
      "I could not see any cause for it, for the howling of the wolves had ceased altogether; but just then the moon, sailing through the black clouds, appeared behind the jagged crest of a beetling, pine-clad rock, and by its light I saw around us a ring of wolves, with white teeth and lolling red tongues, with long, sinewy limbs and shaggy hair.\n",
      "\n",
      "Resumen de 'The Man of the Forest.txt':\n",
      "At sunset hour the forest was still, lonely, sweet with tang of fir and spruce, blazing in gold and red and green; and the man who glided on under the great trees seemed to blend with the colors and, disappearing, to have become a part of the wild woodland.\n",
      "It was a wild, richly timbered, and abundantly watered region of dark forests and grassy parks, ten thousand feet above sea-level, isolated on all sides by the southern Arizona desert--the virgin home of elk and deer, of bear and lion, of wolf and fox, and the birthplace as well as the hiding-place of the fierce Apache.\n",
      "From overhead in the giant fir came a twittering and rustling of grouse settling for the night; and from across the valley drifted the last low calls of wild turkeys going to roost.\n",
      "As he started out upon the slope, a sudden flaring of the afterglow of sunset flooded down from Old Baldy, filling the valley with lights and shadows, yellow and blue, like the radiance of the sky.\n",
      "Dale's gaze swept up and down the valley, and then tried to pierce the black shadows across the brook where the wall of spruce stood up, its speared and spiked crest against the pale clouds.\n",
      "The wind began to moan in the trees and there was a feeling of rain in the air.\n",
      "Quickly he turned to feel in the dark for a ladder he knew led to a loft; and finding it, he quickly mounted, taking care not to make a noise with his rifle, and lay down upon the floor of brush and poles.\n",
      "Rustlings and slow footsteps, and then heavy thuds attested to the probability that Jim was knocking the end of a log upon the ground to split off a corner whereby a handful of dry splinters could be procured.\n",
      "Presently the pitchy blackness of the cabin changed; there came a little crackling of wood and the rustle of flame, and then a steady growing roar.\n",
      "In the firelight Snake Anson's face looked lean and serpent-like, his eyes glittered, and his long neck and all of his long length carried out the analogy of his name.\n",
      "\n"
     ]
    }
   ],
   "source": [
    "def resumir_texto(texto, num_sentencias=10):\n",
    "    # Inicializamos todo lo necesario para el TextRank \n",
    "    parser = PlaintextParser.from_string(texto, Tokenizer(\"english\"))\n",
    "    stemmer = Stemmer(\"english\")\n",
    "    summarizer = TextRankSummarizer(stemmer)\n",
    "    \n",
    "    # Aplicamos el sumarizador al documento creado por el parser para obtener las 10 oraciones\n",
    "    resumen = summarizer(parser.document, num_sentencias)\n",
    "    \n",
    "    # Convertimos las oraciones en un solo string, separadas por saltos de línea\n",
    "    return \"\\n\".join(str(oracion) for oracion in resumen)\n",
    "\n",
    "resumenes = [resumir_texto(texto) for texto in textos_primeros_capitulos]\n",
    "\n",
    "# Se imprime el resumen del primer capitulo del libro\n",
    "for i, resumen in enumerate(resumenes):\n",
    "    print(f\"Resumen de '{titulos[i]}':\\n{resumen}\\n\")\n"
   ]
  },
  {
   "cell_type": "markdown",
   "metadata": {},
   "source": [
    "LSA"
   ]
  },
  {
   "cell_type": "code",
   "execution_count": 79,
   "metadata": {},
   "outputs": [
    {
     "name": "stdout",
     "output_type": "stream",
     "text": [
      "Resumen de 'Dracula.txt':\n",
      "I had for dinner, or rather supper, a chicken done up some way with red pepper, which was very good but thirsty.\n",
      "There was a dog howling all night under my window, which may have had something to do with it; or it may have been the paprika, for I had to drink up all the water in my carafe, and was still thirsty.\n",
      "It was on the dark side of twilight when we got to Bistritz, which is a very interesting old place.\n",
      "Fifty years ago a series of great fires took place, which made terrible havoc on five separate occasions.\n",
      "He and his wife, the old lady who had received me, looked at each other in a frightened sort of way.\n",
      "Just before I was leaving, the old lady came up to my room and said in a very hysterical way:\n",
      "I must say they were not cheering to me, for amongst them were “Ordog”--Satan, “pokol”--hell, “stregoica”--witch, “vrolok” and “vlkoslak”--both of which mean the same thing, one being Slovak and the other Servian for something that is either were-wolf or vampire.\n",
      "I wished to get down and walk up them, as we do at home, but the driver would not hear of it.\n",
      "We could see now the sandy road lying white before us, but there was on it no sign of a vehicle.\n",
      "This gave me a sort of shock, for I suppose the general superstition about midnight was increased by my recent experiences.\n",
      "\n",
      "Resumen de 'The Man of the Forest.txt':\n",
      "Twilight appeared to come on its wings, as did faint sounds, not distinguishable before in the stillness.\n",
      "To Dale's keen ear these sounds were all they should have been, betokening an unchanged serenity of forestland.\n",
      "But there hid somewhere in the forest a gang of bad men, sheep-thieves, whom Dale did not want to meet.\n",
      "Snake Anson stepped back from before the door with an action that expressed both doubt and caution.\n",
      "Anson leaned forward, like a serpent ready to strike, and Jim Wilson was as tense with his divination of the plot at hand.\n",
      "She'll take the stage to Snowdrop, where some of Auchincloss's men will meet her with a team.\"\n",
      "I'll press my claims on Auchincloss--hound him--an' be ready when he croaks to take over his property.\n",
      "\"Auchincloss is a dyin' man,\" declared Beasley, with such positiveness that it could not be doubted.\n",
      "But you want to mask.... How about ten thousand sheep--or what they bring at Phenix in gold?\"\n",
      "Later, if the weather holds good, send me word by one of them an' I'll meet you.\"\n",
      "\n"
     ]
    }
   ],
   "source": [
    "def resumir_texto(texto, num_sentencias=10):\n",
    "    # Inicializamos todo lo necesario para el TextRank \n",
    "    parser = PlaintextParser.from_string(texto, Tokenizer(\"english\"))\n",
    "    stemmer = Stemmer(\"english\")\n",
    "    summarizer = LsaSummarizer(stemmer)\n",
    "    \n",
    "    # Aplicamos el sumarizador al documento creado por el parser para obtener las 10 oraciones\n",
    "    resumen = summarizer(parser.document, num_sentencias)\n",
    "    \n",
    "    # Convertimos las oraciones en un solo string, separadas por saltos de línea\n",
    "    return \"\\n\".join(str(oracion) for oracion in resumen)\n",
    "\n",
    "# Aplicar el resumen a cada texto\n",
    "resumenes = [resumir_texto(texto) for texto in textos_primeros_capitulos]\n",
    "\n",
    "# Se imprime el resumen del primer capitulo del libro\n",
    "for i, resumen in enumerate(resumenes):\n",
    "    print(f\"Resumen de '{titulos[i]}':\\n{resumen}\\n\")"
   ]
  }
 ],
 "metadata": {
  "kernelspec": {
   "display_name": "Python 3",
   "language": "python",
   "name": "python3"
  },
  "language_info": {
   "codemirror_mode": {
    "name": "ipython",
    "version": 3
   },
   "file_extension": ".py",
   "mimetype": "text/x-python",
   "name": "python",
   "nbconvert_exporter": "python",
   "pygments_lexer": "ipython3",
   "version": "3.12.0"
  }
 },
 "nbformat": 4,
 "nbformat_minor": 2
}
